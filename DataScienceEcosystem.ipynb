{
 "cells": [
  {
   "cell_type": "markdown",
   "id": "5b4d7579-ddb1-4127-b83e-1bb551a72df3",
   "metadata": {
    "tags": []
   },
   "source": [
    "# Data Science Tools and Ecosystem"
   ]
  },
  {
   "cell_type": "markdown",
   "id": "9ff3d474-3efc-4e85-932c-a95b110d5054",
   "metadata": {
    "tags": []
   },
   "source": [
    "In this notebook, Data Science Tools and Ecosystem are summarized."
   ]
  },
  {
   "cell_type": "markdown",
   "id": "4e631f7b-714d-462d-8511-a1e3edd5650a",
   "metadata": {},
   "source": [
    "**Objectives:**\n",
    "- List popular languages for Data Science\n",
    "- List popular libraries for Data Science\n",
    "- List some popular Data Science Tools\n",
    "- Show some simple expression codes"
   ]
  },
  {
   "cell_type": "markdown",
   "id": "d8100c49-932f-4199-be73-a267f36b5ff5",
   "metadata": {
    "tags": []
   },
   "source": [
    "Some of the popular languages that Data Scientists use are: \n",
    "1. Python\n",
    "2. R\n",
    "3. Scala"
   ]
  },
  {
   "cell_type": "markdown",
   "id": "d2a21046-d766-4c4e-b1dd-baaa8a16eb11",
   "metadata": {
    "tags": []
   },
   "source": [
    "Some of the commonly used libraries used by Data Scientists include:\n",
    "1. NumPy \n",
    "2. Pandas\n",
    "3. Matplotlib"
   ]
  },
  {
   "cell_type": "markdown",
   "id": "f1ec678f-1271-464f-8d43-d14b81ba6369",
   "metadata": {},
   "source": [
    "| Data Science Tools |\n",
    "|:--------:|\n",
    "|  Apache Spark   | \n",
    "|  TensorFlow   |\n",
    "|  Apache Hadoop   | "
   ]
  },
  {
   "cell_type": "markdown",
   "id": "ba12ad82-70f8-4ac7-b695-73b84f6ae4c6",
   "metadata": {},
   "source": [
    "### Below are a few examples of evaluating arithmetic expressions in Python"
   ]
  },
  {
   "cell_type": "code",
   "execution_count": 2,
   "id": "6fb20e23-e6db-49e7-8c79-7b63c5af93e9",
   "metadata": {
    "tags": []
   },
   "outputs": [
    {
     "data": {
      "text/plain": [
       "17"
      ]
     },
     "execution_count": 2,
     "metadata": {},
     "output_type": "execute_result"
    }
   ],
   "source": [
    "##This a simple arithmetic expression to mutiply then add integers\n",
    "\n",
    "(3*4) + 5"
   ]
  },
  {
   "cell_type": "code",
   "execution_count": 3,
   "id": "e34087e4-6d92-40cc-b6ce-dd1ae68b9398",
   "metadata": {
    "tags": []
   },
   "outputs": [
    {
     "data": {
      "text/plain": [
       "3.3333333333333335"
      ]
     },
     "execution_count": 3,
     "metadata": {},
     "output_type": "execute_result"
    }
   ],
   "source": [
    "##This will convert 200 minutes to hours by diving by 60\n",
    "\n",
    "200/60"
   ]
  },
  {
   "cell_type": "markdown",
   "id": "71a32a5a-cf61-4336-8bda-e6093c53f3aa",
   "metadata": {
    "tags": []
   },
   "source": [
    "## Author\n",
    "Petr Chmelík"
   ]
  }
 ],
 "metadata": {
  "kernelspec": {
   "display_name": "Python",
   "language": "python",
   "name": "conda-env-python-py"
  },
  "language_info": {
   "codemirror_mode": {
    "name": "ipython",
    "version": 3
   },
   "file_extension": ".py",
   "mimetype": "text/x-python",
   "name": "python",
   "nbconvert_exporter": "python",
   "pygments_lexer": "ipython3",
   "version": "3.7.12"
  }
 },
 "nbformat": 4,
 "nbformat_minor": 5
}
